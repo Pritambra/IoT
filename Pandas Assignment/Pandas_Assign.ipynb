{
 "cells": [
  {
   "cell_type": "markdown",
   "id": "00a0167c-588b-4fae-bd7f-e56f66a0ec3f",
   "metadata": {},
   "source": [
    "## Que 1"
   ]
  },
  {
   "cell_type": "code",
   "execution_count": 1,
   "id": "4d0f8386-a15b-4f97-ae96-ca99e74b9e95",
   "metadata": {},
   "outputs": [],
   "source": [
    "import pandas as pd"
   ]
  },
  {
   "cell_type": "code",
   "execution_count": 2,
   "id": "25e5ff86-3f10-4d8a-8d63-d4cbbd005b05",
   "metadata": {},
   "outputs": [
    {
     "name": "stdout",
     "output_type": "stream",
     "text": [
      "0     2\n",
      "1     4\n",
      "2     6\n",
      "3     8\n",
      "4    10\n",
      "dtype: int64\n"
     ]
    }
   ],
   "source": [
    "#  Write a Pandas program to create and display a one-dimensional array-like object containing an array of data.\n",
    "\n",
    "ds = pd.Series([2, 4, 6, 8, 10])\n",
    "print(ds)"
   ]
  },
  {
   "cell_type": "markdown",
   "id": "1f01624b-48b8-46da-aeb4-e9cae745d30a",
   "metadata": {},
   "source": [
    "## Que 2"
   ]
  },
  {
   "cell_type": "code",
   "execution_count": 3,
   "id": "75445949-a8ab-43cc-8590-c25e34bc7c6c",
   "metadata": {},
   "outputs": [
    {
     "name": "stdout",
     "output_type": "stream",
     "text": [
      "Pandas Series and type\n",
      "0     2\n",
      "1     4\n",
      "2     6\n",
      "3     8\n",
      "4    10\n",
      "dtype: int64\n",
      "<class 'pandas.core.series.Series'>\n",
      "Convert Pandas Series to Python list\n",
      "[2, 4, 6, 8, 10]\n",
      "<class 'list'>\n"
     ]
    }
   ],
   "source": [
    "# Write a Pandas program to convert a Panda module Series to Python list and it’s type.\n",
    "\n",
    "ds = pd.Series([2, 4, 6, 8, 10])\n",
    "print(\"Pandas Series and type\")\n",
    "print(ds)\n",
    "print(type(ds))\n",
    "print(\"Convert Pandas Series to Python list\")\n",
    "print(ds.tolist())\n",
    "print(type(ds.tolist()))"
   ]
  },
  {
   "cell_type": "markdown",
   "id": "f979fd9e-78b6-4b20-9d0f-3a45fbf9df41",
   "metadata": {},
   "source": [
    "## Que 3"
   ]
  },
  {
   "cell_type": "code",
   "execution_count": 4,
   "id": "f08f0142-28b1-45a3-835a-2a5f2216d4f3",
   "metadata": {},
   "outputs": [
    {
     "name": "stdout",
     "output_type": "stream",
     "text": [
      "Add two Series:\n",
      "0     3\n",
      "1     7\n",
      "2    11\n",
      "3    15\n",
      "4    19\n",
      "dtype: int64\n",
      "Subtract two Series:\n",
      "0    1\n",
      "1    1\n",
      "2    1\n",
      "3    1\n",
      "4    1\n",
      "dtype: int64\n",
      "Multiply two Series:\n",
      "0     2\n",
      "1    12\n",
      "2    30\n",
      "3    56\n",
      "4    90\n",
      "dtype: int64\n",
      "Divide Series1 by Series2:\n",
      "0    2.000000\n",
      "1    1.333333\n",
      "2    1.200000\n",
      "3    1.142857\n",
      "4    1.111111\n",
      "dtype: float64\n"
     ]
    }
   ],
   "source": [
    "# Write a Pandas program to add, subtract, multiple and divide two Pandas Series.\n",
    "#Sample Series: [2, 4, 6, 8, 10], [1, 3, 5, 7, 9]\n",
    " \n",
    "ds1 = pd.Series([2, 4, 6, 8, 10])\n",
    "ds2 = pd.Series([1, 3, 5, 7, 9])\n",
    "ds = ds1 + ds2\n",
    "print(\"Add two Series:\")\n",
    "print(ds)\n",
    "print(\"Subtract two Series:\")\n",
    "ds = ds1 - ds2\n",
    "print(ds)\n",
    "print(\"Multiply two Series:\")\n",
    "ds = ds1 * ds2\n",
    "print(ds)\n",
    "print(\"Divide Series1 by Series2:\")\n",
    "ds = ds1 / ds2\n",
    "print(ds)"
   ]
  },
  {
   "cell_type": "markdown",
   "id": "62f18f8c-163a-40e7-b4f2-a924ecc240cd",
   "metadata": {},
   "source": [
    "## Que 4"
   ]
  },
  {
   "cell_type": "code",
   "execution_count": 5,
   "id": "d45e09f9-6ca1-4372-a09e-6231fe9cd6bd",
   "metadata": {},
   "outputs": [
    {
     "name": "stdout",
     "output_type": "stream",
     "text": [
      "Original dictionary:\n",
      "{'a': 100, 'b': 200, 'c': 300, 'd': 400, 'e': 800}\n",
      "Converted series:\n",
      "a    100\n",
      "b    200\n",
      "c    300\n",
      "d    400\n",
      "e    800\n",
      "dtype: int64\n"
     ]
    }
   ],
   "source": [
    "# Write a Pandas program to convert a dictionary to a Pandas series.Write a Pandas program to convert a dictionary to a Pandas series.\n",
    "\n",
    "d1 = {'a': 100, 'b': 200, 'c':300, 'd':400, 'e':800}\n",
    "print(\"Original dictionary:\")\n",
    "print(d1)\n",
    "new_series = pd.Series(d1)\n",
    "print(\"Converted series:\")\n",
    "print(new_series)\n"
   ]
  },
  {
   "cell_type": "markdown",
   "id": "69dca931-32d8-45de-b91d-add449687af1",
   "metadata": {},
   "source": [
    "## Que 6"
   ]
  },
  {
   "cell_type": "code",
   "execution_count": 6,
   "id": "1c086161-35d9-4164-8e2a-570e4fa73fcc",
   "metadata": {},
   "outputs": [
    {
     "name": "stdout",
     "output_type": "stream",
     "text": [
      "Original Data Series:\n",
      "0       100\n",
      "1       200\n",
      "2    python\n",
      "3    300.12\n",
      "4       400\n",
      "dtype: object\n",
      "Change the said data type to numeric:\n",
      "0    100.00\n",
      "1    200.00\n",
      "2       NaN\n",
      "3    300.12\n",
      "4    400.00\n",
      "dtype: float64\n"
     ]
    }
   ],
   "source": [
    "# Write a Pandas program to change the data type of given a column or a Series.\n",
    "\n",
    "s1 = pd.Series(['100', '200', 'python', '300.12', '400'])\n",
    "print(\"Original Data Series:\")\n",
    "print(s1)\n",
    "print(\"Change the said data type to numeric:\")\n",
    "s2 = pd.to_numeric(s1, errors='coerce')\n",
    "print(s2)"
   ]
  },
  {
   "cell_type": "markdown",
   "id": "37ea10e1-fd0c-4622-a5a2-d23c4a631842",
   "metadata": {},
   "source": [
    "## Que 5"
   ]
  },
  {
   "cell_type": "code",
   "execution_count": 8,
   "id": "726bb4fb-1383-4298-b33c-caabe71db6b1",
   "metadata": {},
   "outputs": [
    {
     "name": "stdout",
     "output_type": "stream",
     "text": [
      "NumPy array:\n",
      "[10 20 30 40 50]\n",
      "Converted Pandas series:\n",
      "0    10\n",
      "1    20\n",
      "2    30\n",
      "3    40\n",
      "4    50\n",
      "dtype: int64\n"
     ]
    }
   ],
   "source": [
    "# Write a Pandas program to convert a NumPy array to a Pandas series.\n",
    "\n",
    "import numpy as np\n",
    "import pandas as pd\n",
    "np_array = np.array([10, 20, 30, 40, 50])\n",
    "print(\"NumPy array:\")\n",
    "print(np_array)\n",
    "new_series = pd.Series(np_array)\n",
    "print(\"Converted Pandas series:\")\n",
    "print(new_series)"
   ]
  },
  {
   "cell_type": "markdown",
   "id": "41f8b82e-cab1-44da-9008-1043f4bae296",
   "metadata": {},
   "source": [
    "## Que 7"
   ]
  },
  {
   "cell_type": "code",
   "execution_count": 9,
   "id": "46618fc1-7c78-4148-a910-b63e79fa9cb0",
   "metadata": {},
   "outputs": [
    {
     "name": "stdout",
     "output_type": "stream",
     "text": [
      "Original Data Series:\n",
      "0       100\n",
      "1       200\n",
      "2    python\n",
      "3    300.12\n",
      "4       400\n",
      "dtype: object\n",
      "Series to an array\n",
      "['100' '200' 'python' '300.12' '400']\n",
      "<class 'numpy.ndarray'>\n"
     ]
    }
   ],
   "source": [
    "# Write a Pandas program to convert a given Series to an array.Write a Pandas program to convert a given Series to an array.\n",
    "\n",
    "s1 = pd.Series(['100', '200', 'python', '300.12', '400'])\n",
    "print(\"Original Data Series:\")\n",
    "print(s1)\n",
    "print(\"Series to an array\")\n",
    "a = s1.values\n",
    "print(a)\n",
    "print(type(a))\n"
   ]
  },
  {
   "cell_type": "markdown",
   "id": "b485c8dc-0642-4044-aa1b-824822d67a87",
   "metadata": {},
   "source": [
    "## Que 8"
   ]
  },
  {
   "cell_type": "code",
   "execution_count": 10,
   "id": "1f485184-b34c-440d-8d4b-b1e46cd28001",
   "metadata": {},
   "outputs": [
    {
     "name": "stdout",
     "output_type": "stream",
     "text": [
      "    X   Y   Z\n",
      "0  78  84  86\n",
      "1  85  94  97\n",
      "2  96  89  96\n",
      "3  80  83  72\n",
      "4  86  86  83\n"
     ]
    }
   ],
   "source": [
    "# Write a Pandas program to create a dataframe from a dictionary and display it.\n",
    "\n",
    "df = pd.DataFrame({'X':[78,85,96,80,86], 'Y':[84,94,89,83,86],'Z':[86,97,96,72,83]});\n",
    "print(df)"
   ]
  },
  {
   "cell_type": "markdown",
   "id": "20eee02b-123c-402c-95fb-492f247df700",
   "metadata": {},
   "source": [
    "## Que 9 "
   ]
  },
  {
   "cell_type": "code",
   "execution_count": null,
   "id": "8f874cc8-6141-4090-b049-88033a5a4202",
   "metadata": {},
   "outputs": [],
   "source": [
    "#   i) Create a list of empids and names (10 employees).\n",
    "\n"
   ]
  }
 ],
 "metadata": {
  "kernelspec": {
   "display_name": "Python 3 (ipykernel)",
   "language": "python",
   "name": "python3"
  },
  "language_info": {
   "codemirror_mode": {
    "name": "ipython",
    "version": 3
   },
   "file_extension": ".py",
   "mimetype": "text/x-python",
   "name": "python",
   "nbconvert_exporter": "python",
   "pygments_lexer": "ipython3",
   "version": "3.10.12"
  }
 },
 "nbformat": 4,
 "nbformat_minor": 5
}
